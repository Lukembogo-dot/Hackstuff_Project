{
  "cells": [
    {
      "cell_type": "code",
      "execution_count": 1,
      "metadata": {
        "colab": {
          "base_uri": "https://localhost:8080/"
        },
        "id": "-l5R46E1zUPP",
        "outputId": "f636263b-b5fb-4f4d-9cb2-3d46753dfa97"
      },
      "outputs": [
        {
          "name": "stdout",
          "output_type": "stream",
          "text": [
            "Avg rainfall (30 days before planting): 56.351073882304526\n"
          ]
        }
      ],
      "source": [
        "import pandas as pd\n",
        "\n",
        "# Example daily rainfall data\n",
        "# Skip the first row which contains header-like information\n",
        "rainfall_df = pd.read_csv(\"ken-rainfall-subnat-full.csv\", skiprows=[1])\n",
        "\n",
        "# Convert the 'date' column to datetime objects\n",
        "rainfall_df[\"date\"] = pd.to_datetime(rainfall_df[\"date\"])\n",
        "\n",
        "# Convert the rainfall columns to numeric, coercing errors\n",
        "rainfall_df[\"r1h\"] = pd.to_numeric(rainfall_df[\"r1h\"], errors='coerce')\n",
        "rainfall_df[\"r1h_avg\"] = pd.to_numeric(rainfall_df[\"r1h_avg\"], errors='coerce')\n",
        "\n",
        "\n",
        "# Suppose you know planting_date\n",
        "planting_date = pd.Timestamp(\"2023-03-15\")\n",
        "\n",
        "# Filter rainfall in month before planting\n",
        "rainfall_before = rainfall_df[(rainfall_df[\"date\"] >= planting_date - pd.Timedelta(days=30)) &\n",
        "                     (rainfall_df[\"date\"] < planting_date)]\n",
        "\n",
        "# Use 'r1h_avg' column for rainfall data\n",
        "avg_rainfall = rainfall_before[\"r1h_avg\"].mean()\n",
        "print(\"Avg rainfall (30 days before planting):\", avg_rainfall)"
      ]
    },
    {
      "cell_type": "code",
      "execution_count": 2,
      "metadata": {
        "colab": {
          "base_uri": "https://localhost:8080/"
        },
        "id": "d0b6eb2f",
        "outputId": "8bf01084-da3f-4dea-baec-5db2f6aed91a"
      },
      "outputs": [
        {
          "name": "stdout",
          "output_type": "stream",
          "text": [
            "Index(['date', 'adm_level', 'adm_id', 'PCODE', 'n_pixels', 'rfh', 'rfh_avg',\n",
            "       'r1h', 'r1h_avg', 'r3h', 'r3h_avg', 'rfq', 'r1q', 'r3q', 'version'],\n",
            "      dtype='object')\n"
          ]
        }
      ],
      "source": [
        "print(rainfall_df.columns)"
      ]
    },
    {
      "cell_type": "code",
      "execution_count": 3,
      "metadata": {
        "colab": {
          "base_uri": "https://localhost:8080/"
        },
        "id": "ziJIYUul5DVd",
        "outputId": "52e2a3f7-5826-47f3-8d62-8902a0f69969"
      },
      "outputs": [
        {
          "name": "stdout",
          "output_type": "stream",
          "text": [
            "Rainfall onset date: 1981-03-01 00:00:00\n"
          ]
        }
      ],
      "source": [
        "# Create a rolling sum over 5 days using the 'r1h_avg' column\n",
        "rainfall_df[\"rain_5day_sum\"] = rainfall_df[\"r1h_avg\"].rolling(window=5).sum()\n",
        "\n",
        "# Find the first date where rolling sum >= 20mm\n",
        "onset_row = rainfall_df[rainfall_df[\"rain_5day_sum\"] >= 20].head(1)\n",
        "if not onset_row.empty:\n",
        "    onset_date = onset_row[\"date\"].iloc[0]\n",
        "    print(\"Rainfall onset date:\", onset_date)\n",
        "else:\n",
        "    print(\"No onset found in dataset\")"
      ]
    },
    {
      "cell_type": "code",
      "execution_count": 4,
      "metadata": {
        "colab": {
          "base_uri": "https://localhost:8080/"
        },
        "id": "464MzEP25xYM",
        "outputId": "70def07d-25c9-49ab-c162-40c92f6e5bec"
      },
      "outputs": [
        {
          "name": "stdout",
          "output_type": "stream",
          "text": [
            "Avg temp (30 days after planting): nan\n"
          ]
        }
      ],
      "source": [
        "import pandas as pd\n",
        "\n",
        "temp_df = pd.read_csv(\"kenya-climate-data-1991-2016-temp-degress-celcius.csv\")\n",
        "\n",
        "# Create a datetime column from 'Year' and 'Month Average'\n",
        "# Assuming 'Month Average' contains month names like 'Jan Average', 'Feb Average', etc.\n",
        "temp_df['date'] = pd.to_datetime(temp_df['Year'].astype(str) + '-' + temp_df['Month Average'].str.split().str[0], format='%Y-%b')\n",
        "\n",
        "# Select 30 days after planting\n",
        "temp_after = temp_df[(temp_df[\"date\"] >= planting_date) &\n",
        "                     (temp_df[\"date\"] < planting_date + pd.Timedelta(days=30))]\n",
        "\n",
        "avg_temp = temp_after[\"Temperature - (Celsius)\"].mean()\n",
        "print(\"Avg temp (30 days after planting):\", avg_temp)"
      ]
    },
    {
      "cell_type": "code",
      "execution_count": 5,
      "metadata": {
        "colab": {
          "base_uri": "https://localhost:8080/"
        },
        "id": "3bccba66",
        "outputId": "187299fc-23fb-46d1-89fe-e94768642862"
      },
      "outputs": [
        {
          "name": "stdout",
          "output_type": "stream",
          "text": [
            "Index(['Year', 'Month Average', 'Temperature - (Celsius)', 'date'], dtype='object')\n"
          ]
        }
      ],
      "source": [
        "print(temp_df.columns)"
      ]
    },
    {
      "cell_type": "code",
      "execution_count": 6,
      "metadata": {
        "id": "ias1LvjK9lRV"
      },
      "outputs": [],
      "source": [
        "import pandas as pd\n",
        "import numpy as np\n",
        "import seaborn as sns\n",
        "import matplotlib.pyplot as plt\n",
        "from sklearn import tree, ensemble\n",
        "from sklearn.naive_bayes import GaussianNB\n",
        "from sklearn.svm import SVC\n",
        "from sklearn.neighbors import KNeighborsClassifier\n",
        "from sklearn.metrics import accuracy_score\n",
        "from sklearn.metrics import classification_report"
      ]
    },
    {
      "cell_type": "code",
      "execution_count": 7,
      "metadata": {
        "colab": {
          "base_uri": "https://localhost:8080/"
        },
        "id": "TIPwY5Z9N2ux",
        "outputId": "2086f8da-7906-4501-a588-969faccfd797"
      },
      "outputs": [
        {
          "name": "stdout",
          "output_type": "stream",
          "text": [
            "Warning: Looks like you're using an outdated `kagglehub` version (installed: 0.3.12), please consider upgrading to the latest version (0.3.13).\n",
            "Downloading from https://www.kaggle.com/api/v1/datasets/download/rahuljaiswalonkaggle/soil-fertility-dataset?dataset_version_number=1...\n"
          ]
        },
        {
          "name": "stderr",
          "output_type": "stream",
          "text": [
            "100%|██████████| 16.9k/16.9k [00:00<00:00, 3.04MB/s]"
          ]
        },
        {
          "name": "stdout",
          "output_type": "stream",
          "text": [
            "Extracting files...\n",
            "Path to dataset files: C:\\Users\\ADMIN\\.cache\\kagglehub\\datasets\\rahuljaiswalonkaggle\\soil-fertility-dataset\\versions\\1\n"
          ]
        },
        {
          "name": "stderr",
          "output_type": "stream",
          "text": [
            "\n"
          ]
        }
      ],
      "source": [
        "import kagglehub\n",
        "\n",
        "# Download latest version\n",
        "path = kagglehub.dataset_download(\"rahuljaiswalonkaggle/soil-fertility-dataset\")\n",
        "\n",
        "print(\"Path to dataset files:\", path)"
      ]
    },
    {
      "cell_type": "code",
      "execution_count": 8,
      "metadata": {
        "colab": {
          "base_uri": "https://localhost:8080/"
        },
        "id": "mDiw6aJwP0Tb",
        "outputId": "45f0e91d-1089-41aa-a753-a261befaa7c3"
      },
      "outputs": [
        {
          "name": "stdout",
          "output_type": "stream",
          "text": [
            "Soil Fertility Index: 20.5\n"
          ]
        }
      ],
      "source": [
        "soil_df = pd.DataFrame({\n",
        "    \"N\": [25],  # Nitrogen ppm\n",
        "    \"P\": [15],  # Phosphorus ppm\n",
        "    \"K\": [30],  # Potassium ppm\n",
        "    \"pH\": [6.5]\n",
        "})\n",
        "\n",
        "# Example: weighted soil fertility score\n",
        "soil_df[\"fertility_index\"] = (0.4*soil_df[\"N\"] +\n",
        "                              0.3*soil_df[\"P\"] +\n",
        "                              0.2*soil_df[\"K\"] -\n",
        "                              0.1*abs(soil_df[\"pH\"]-6.5))\n",
        "\n",
        "print(\"Soil Fertility Index:\", soil_df[\"fertility_index\"].iloc[0])\n"
      ]
    },
    {
      "cell_type": "code",
      "execution_count": 9,
      "metadata": {
        "colab": {
          "base_uri": "https://localhost:8080/"
        },
        "id": "FNM_L1yR4bpx",
        "outputId": "830ab2bf-219f-41bf-f7d0-956d8e69801e"
      },
      "outputs": [
        {
          "name": "stdout",
          "output_type": "stream",
          "text": [
            "   avg_rainfall  avg_temp  fertility_index\n",
            "0     56.351074       NaN             20.5\n"
          ]
        }
      ],
      "source": [
        "features = pd.DataFrame([{\n",
        "    \"avg_rainfall\": avg_rainfall,\n",
        "    \"avg_temp\": avg_temp,\n",
        "    \"fertility_index\": soil_df[\"fertility_index\"].iloc[0]\n",
        "}])\n",
        "print(features)"
      ]
    },
    {
      "cell_type": "code",
      "execution_count": 10,
      "metadata": {
        "colab": {
          "base_uri": "https://localhost:8080/"
        },
        "id": "uOXtC1TB5j6x",
        "outputId": "51c8084d-57dd-4da1-c524-1cda753bb4ea"
      },
      "outputs": [
        {
          "name": "stdout",
          "output_type": "stream",
          "text": [
            "   avg_rainfall   avg_temp  fertility_index\n",
            "0     56.351074  25.118588             20.5\n"
          ]
        }
      ],
      "source": [
        "# --- Synthetic labeling function ---\n",
        "def label_suitability(row):\n",
        "    # Define thresholds (tweak these!)\n",
        "    rain_ok = 30 <= row[\"avg_rainfall\"] <= 200\n",
        "    temp_ok = 18 <= row[\"avg_temp\"] <= 30\n",
        "    fertility_ok = row[\"fertility_index\"] >= 15\n",
        "\n",
        "    return int(rain_ok and temp_ok and fertility_ok)\n",
        "\n",
        "# Apply to dataset\n",
        "final_df = pd.DataFrame({\n",
        "    \"avg_rainfall\": [avg_rainfall],\n",
        "    \"avg_temp\": [avg_temp],\n",
        "    \"fertility_index\": soil_df[\"fertility_index\"].iloc[0]\n",
        "})\n",
        "\n",
        "# Replace NaN with mean temperature\n",
        "final_df[\"avg_temp\"] = final_df[\"avg_temp\"].fillna(temp_df[\"Temperature - (Celsius)\"].mean())\n",
        "\n",
        "\n",
        "print(final_df)\n"
      ]
    },
    {
      "cell_type": "code",
      "execution_count": 11,
      "metadata": {
        "colab": {
          "base_uri": "https://localhost:8080/",
          "height": 454
        },
        "id": "72LyUvc76yId",
        "outputId": "f1f46560-5dab-4fce-98f3-0faff03c4c6c"
      },
      "outputs": [
        {
          "name": "stdout",
          "output_type": "stream",
          "text": [
            "Class balance with noise:\n",
            " suitable\n",
            "0    391\n",
            "1    109\n",
            "Name: count, dtype: int64\n"
          ]
        },
        {
          "data": {
            "text/html": [
              "<div>\n",
              "<style scoped>\n",
              "    .dataframe tbody tr th:only-of-type {\n",
              "        vertical-align: middle;\n",
              "    }\n",
              "\n",
              "    .dataframe tbody tr th {\n",
              "        vertical-align: top;\n",
              "    }\n",
              "\n",
              "    .dataframe thead th {\n",
              "        text-align: right;\n",
              "    }\n",
              "</style>\n",
              "<table border=\"1\" class=\"dataframe\">\n",
              "  <thead>\n",
              "    <tr style=\"text-align: right;\">\n",
              "      <th></th>\n",
              "      <th>avg_rainfall</th>\n",
              "      <th>avg_temp</th>\n",
              "      <th>fertility_index</th>\n",
              "      <th>suitable</th>\n",
              "    </tr>\n",
              "  </thead>\n",
              "  <tbody>\n",
              "    <tr>\n",
              "      <th>0</th>\n",
              "      <td>124.871233</td>\n",
              "      <td>27.454043</td>\n",
              "      <td>9.628323</td>\n",
              "      <td>0</td>\n",
              "    </tr>\n",
              "    <tr>\n",
              "      <th>1</th>\n",
              "      <td>286.200006</td>\n",
              "      <td>23.402409</td>\n",
              "      <td>18.547524</td>\n",
              "      <td>0</td>\n",
              "    </tr>\n",
              "    <tr>\n",
              "      <th>2</th>\n",
              "      <td>224.958304</td>\n",
              "      <td>17.738190</td>\n",
              "      <td>26.823646</td>\n",
              "      <td>0</td>\n",
              "    </tr>\n",
              "    <tr>\n",
              "      <th>3</th>\n",
              "      <td>187.624376</td>\n",
              "      <td>30.344875</td>\n",
              "      <td>23.305622</td>\n",
              "      <td>0</td>\n",
              "    </tr>\n",
              "    <tr>\n",
              "      <th>4</th>\n",
              "      <td>63.685219</td>\n",
              "      <td>27.118279</td>\n",
              "      <td>25.164029</td>\n",
              "      <td>1</td>\n",
              "    </tr>\n",
              "    <tr>\n",
              "      <th>5</th>\n",
              "      <td>63.678466</td>\n",
              "      <td>14.065423</td>\n",
              "      <td>21.469584</td>\n",
              "      <td>1</td>\n",
              "    </tr>\n",
              "    <tr>\n",
              "      <th>6</th>\n",
              "      <td>36.263411</td>\n",
              "      <td>32.773180</td>\n",
              "      <td>22.306914</td>\n",
              "      <td>0</td>\n",
              "    </tr>\n",
              "    <tr>\n",
              "      <th>7</th>\n",
              "      <td>262.529321</td>\n",
              "      <td>30.563431</td>\n",
              "      <td>26.229891</td>\n",
              "      <td>0</td>\n",
              "    </tr>\n",
              "    <tr>\n",
              "      <th>8</th>\n",
              "      <td>188.312203</td>\n",
              "      <td>33.744998</td>\n",
              "      <td>11.241700</td>\n",
              "      <td>0</td>\n",
              "    </tr>\n",
              "    <tr>\n",
              "      <th>9</th>\n",
              "      <td>218.260322</td>\n",
              "      <td>28.142988</td>\n",
              "      <td>17.235624</td>\n",
              "      <td>0</td>\n",
              "    </tr>\n",
              "  </tbody>\n",
              "</table>\n",
              "</div>"
            ],
            "text/plain": [
              "   avg_rainfall   avg_temp  fertility_index  suitable\n",
              "0    124.871233  27.454043         9.628323         0\n",
              "1    286.200006  23.402409        18.547524         0\n",
              "2    224.958304  17.738190        26.823646         0\n",
              "3    187.624376  30.344875        23.305622         0\n",
              "4     63.685219  27.118279        25.164029         1\n",
              "5     63.678466  14.065423        21.469584         1\n",
              "6     36.263411  32.773180        22.306914         0\n",
              "7    262.529321  30.563431        26.229891         0\n",
              "8    188.312203  33.744998        11.241700         0\n",
              "9    218.260322  28.142988        17.235624         0"
            ]
          },
          "execution_count": 11,
          "metadata": {},
          "output_type": "execute_result"
        }
      ],
      "source": [
        "import numpy as np\n",
        "import pandas as pd\n",
        "\n",
        "# Generate synthetic data\n",
        "np.random.seed(42)\n",
        "n_samples = 500\n",
        "\n",
        "synthetic_df = pd.DataFrame({\n",
        "    \"avg_rainfall\": np.random.uniform(20, 300, n_samples),\n",
        "    \"avg_temp\": np.random.uniform(10, 35, n_samples),\n",
        "    \"fertility_index\": np.random.uniform(5, 30, n_samples)\n",
        "})\n",
        "\n",
        "# Labeling function (baseline rules)\n",
        "def assign_label(row):\n",
        "    if (50 <= row[\"avg_rainfall\"] <= 200) and (18 <= row[\"avg_temp\"] <= 30) and (row[\"fertility_index\"] >= 15):\n",
        "        return 1\n",
        "    return 0\n",
        "\n",
        "synthetic_df[\"suitable\"] = synthetic_df.apply(assign_label, axis=1)\n",
        "\n",
        "# Add noise (flip ~10% of labels randomly)\n",
        "noise_fraction = 0.1\n",
        "n_noisy = int(noise_fraction * len(synthetic_df))\n",
        "flip_indices = np.random.choice(synthetic_df.index, size=n_noisy, replace=False)\n",
        "synthetic_df.loc[flip_indices, \"suitable\"] = 1 - synthetic_df.loc[flip_indices, \"suitable\"]\n",
        "\n",
        "print(\"Class balance with noise:\\n\", synthetic_df[\"suitable\"].value_counts())\n",
        "synthetic_df.head(10)\n",
        "\n"
      ]
    },
    {
      "cell_type": "code",
      "execution_count": 12,
      "metadata": {
        "colab": {
          "base_uri": "https://localhost:8080/"
        },
        "id": "C8zaCAKu7Rjh",
        "outputId": "3025cccc-0d1c-4236-8e6e-77c68cb3223f"
      },
      "outputs": [
        {
          "name": "stdout",
          "output_type": "stream",
          "text": [
            "Class balance after SMOTE:\n",
            " suitable\n",
            "0    391\n",
            "1    391\n",
            "Name: count, dtype: int64\n"
          ]
        }
      ],
      "source": [
        "from imblearn.over_sampling import SMOTE\n",
        "\n",
        "X = synthetic_df[[\"avg_rainfall\", \"avg_temp\", \"fertility_index\"]]\n",
        "y = synthetic_df[\"suitable\"]\n",
        "\n",
        "sm = SMOTE(random_state=42)\n",
        "X_res, y_res = sm.fit_resample(X, y)\n",
        "\n",
        "balanced_df = pd.DataFrame(X_res, columns=X.columns)\n",
        "balanced_df[\"suitable\"] = y_res\n",
        "\n",
        "print(\"Class balance after SMOTE:\\n\", balanced_df[\"suitable\"].value_counts())\n",
        "\n",
        "\n"
      ]
    },
    {
      "cell_type": "code",
      "execution_count": 13,
      "metadata": {
        "colab": {
          "base_uri": "https://localhost:8080/"
        },
        "id": "56gYsfVN8yfq",
        "outputId": "31b356f1-bf77-4465-a115-61f8c4a051e9"
      },
      "outputs": [
        {
          "name": "stdout",
          "output_type": "stream",
          "text": [
            "              precision    recall  f1-score   support\n",
            "\n",
            "           0       0.81      0.78      0.79        79\n",
            "           1       0.79      0.81      0.80        78\n",
            "\n",
            "    accuracy                           0.80       157\n",
            "   macro avg       0.80      0.80      0.80       157\n",
            "weighted avg       0.80      0.80      0.80       157\n",
            "\n"
          ]
        }
      ],
      "source": [
        "# ✅ Use balanced_df from SMOTE step\n",
        "X = balanced_df.drop(\"suitable\", axis=1)\n",
        "y = balanced_df[\"suitable\"]\n",
        "\n",
        "# Split data\n",
        "from sklearn.model_selection import train_test_split\n",
        "X_train, X_test, y_train, y_test = train_test_split(\n",
        "    X, y, test_size=0.2, random_state=42, stratify=y\n",
        ")\n",
        "\n",
        "# Train Decision Tree\n",
        "from sklearn.tree import DecisionTreeClassifier\n",
        "clf = DecisionTreeClassifier(random_state=42)\n",
        "clf.fit(X_train, y_train)\n",
        "\n",
        "# Evaluate\n",
        "from sklearn.metrics import classification_report\n",
        "y_pred = clf.predict(X_test)\n",
        "print(classification_report(y_test, y_pred))\n"
      ]
    },
    {
      "cell_type": "code",
      "execution_count": 14,
      "metadata": {
        "colab": {
          "base_uri": "https://localhost:8080/"
        },
        "id": "IjTjI0X_--wR",
        "outputId": "dab62880-d899-4e42-b249-dab797a877c6"
      },
      "outputs": [
        {
          "name": "stdout",
          "output_type": "stream",
          "text": [
            "✅ Model saved as crop_model.pkl\n"
          ]
        }
      ],
      "source": [
        "import joblib\n",
        "\n",
        "# Save the trained model\n",
        "joblib.dump(clf, \"crop_model.pkl\")\n",
        "print(\"✅ Model saved as crop_model.pkl\")"
      ]
    }
  ],
  "metadata": {
    "colab": {
      "provenance": []
    },
    "kernelspec": {
      "display_name": "Python 3",
      "name": "python3"
    },
    "language_info": {
      "codemirror_mode": {
        "name": "ipython",
        "version": 3
      },
      "file_extension": ".py",
      "mimetype": "text/x-python",
      "name": "python",
      "nbconvert_exporter": "python",
      "pygments_lexer": "ipython3",
      "version": "3.13.2"
    }
  },
  "nbformat": 4,
  "nbformat_minor": 0
}
